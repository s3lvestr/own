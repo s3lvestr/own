{
 "cells": [
  {
   "cell_type": "markdown",
   "id": "76068f51-399c-47c8-ac29-45b821d4b894",
   "metadata": {},
   "source": [
    "Subscription data\n",
    "Price of yearly subscription without free trial  $60.00\n",
    "\n",
    "Price of monthly subscription with 7 day free trial  $8.00\n",
    "% of yearly subscriptions  12%\n",
    "Total number of purchases  1200\n",
    "Trial to payment rate  25%\n",
    "Refund rate  10%"
   ]
  },
  {
   "cell_type": "markdown",
   "id": "55aa6b94-2664-487b-a1fa-89d7e72fccd2",
   "metadata": {},
   "source": [
    "Marketing data\n",
    "CPM 5$\n",
    "CTR 2%\n",
    "Click to install rate 50%\n",
    "Install to purchase rate 10%"
   ]
  },
  {
   "cell_type": "markdown",
   "id": "80568df3-240c-4f1f-af89-5b0c8e8f9b4d",
   "metadata": {},
   "source": [
    "Кількість покупок = 1200\n",
    "Install-to-purchase rate = 10% => 1200/0.1 = 12 000\n",
    "Click-to-install rate = 50% => 12000*2 = 24 000\n",
    "CTR = 2%, тому кількість показів: 24000:0.02 = 1 200 000\n",
    "CPM = 5$ => 1 200 000:1000*5 = 6 000\n",
    "Витрати на рекламу 6000$"
   ]
  },
  {
   "cell_type": "markdown",
   "id": "c5191d3e-e272-425b-b33e-7c7174ff4cac",
   "metadata": {},
   "source": [
    "річні підписки (12%):\n",
    "Кількість річних підписок = 1200*0.12=144\n",
    "Дохід від річних = 144*60 = 8640доларів.\n",
    "\n",
    "Місячні підписки (88%):\n",
    "Кількість місячних підписок = 1200 − 144 = 1056\n",
    "\n",
    "З них оплачено після тріалу (25%):\n",
    "Оплачено після тріалу=1056×0.25=264\n",
    "\n",
    "Дохід від місячних підписок:\n",
    "Дохід від місячних=264×8=2112доларів.\n",
    "\n",
    "Загальні повернення = 10%, тому чистий дохід:\n",
    "Чистий дохід=(8640+2112)*0.9=9676.8$."
   ]
  },
  {
   "cell_type": "markdown",
   "id": "a9e9e614-f3c1-431c-817d-0d7d6a49c4a6",
   "metadata": {},
   "source": [
    "ROMI\n",
    "Витрати на маркетинг: 6000$\n",
    "Чистий дохід: 9676.8$\n",
    "\n",
    "(9676-6000)/6000 = 61.28%"
   ]
  },
  {
   "cell_type": "code",
   "execution_count": null,
   "id": "9fbd9af2-f40b-45fe-8dc4-d84799d9bdcc",
   "metadata": {},
   "outputs": [],
   "source": []
  }
 ],
 "metadata": {
  "kernelspec": {
   "display_name": "Python 3 (ipykernel)",
   "language": "python",
   "name": "python3"
  },
  "language_info": {
   "codemirror_mode": {
    "name": "ipython",
    "version": 3
   },
   "file_extension": ".py",
   "mimetype": "text/x-python",
   "name": "python",
   "nbconvert_exporter": "python",
   "pygments_lexer": "ipython3",
   "version": "3.12.6"
  }
 },
 "nbformat": 4,
 "nbformat_minor": 5
}
