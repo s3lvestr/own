{
 "cells": [
  {
   "cell_type": "markdown",
   "id": "5f7bc317-45dd-476f-b2c1-e38c71eb4ff5",
   "metadata": {},
   "source": [
    "Група A:\n",
    "Кількість інсталяцій: 99,957\n",
    "Кількість покупок: 8,004\n",
    "Ціна одноразової покупки: 30$"
   ]
  },
  {
   "cell_type": "markdown",
   "id": "d62e9eb1-b37b-4307-82d8-6564af063d7b",
   "metadata": {},
   "source": [
    "Група B:\n",
    "Кількість інсталяцій: 100,022\n",
    "Кількість покупок: 9,994\n",
    "Ціна річної підписки: 20$"
   ]
  },
  {
   "cell_type": "markdown",
   "id": "bb669f35-55d0-43d2-b37e-d84de9bfd213",
   "metadata": {},
   "source": [
    "A\n",
    "Коефіцієнт конверсії в покупку для групи A:\n",
    "8004/99957 = 8.01%.\n",
    "Дохід за одного користувача:\n",
    "0.0801*30 = 2.4$"
   ]
  },
  {
   "cell_type": "markdown",
   "id": "9daaa564-ff8b-4911-8b55-128288feb2be",
   "metadata": {},
   "source": [
    "B\n",
    "Коефіцієнт конверсії в покупку для групи B:\n",
    "9994/100,022 = 9.99%.\n",
    "Дохід за одного користувача:\n",
    "0.0999*20 = 2$"
   ]
  },
  {
   "cell_type": "markdown",
   "id": "d2f6efa8-ba1e-473c-b241-ec6469965a61",
   "metadata": {},
   "source": [
    "При зростанні конверсії майже на 25% ми втрачаємо 20% на кожному користувачі"
   ]
  },
  {
   "cell_type": "markdown",
   "id": "1fa85bb5-e587-40df-b509-284b82071348",
   "metadata": {},
   "source": [
    "Без ребілів ми втрачаємо 2.4 - 2 = 0.4$\n",
    "На кожному користувачі, які нам треба заповнити за допомогою другого року підписки."
   ]
  },
  {
   "cell_type": "markdown",
   "id": "74946d01-d832-42e8-9ea1-5ef9f4dd48b9",
   "metadata": {},
   "source": [
    "0.4/2 = 0.2 => що якщо 20% юзерів куплять підписку на другий рік ми вийдемо в +"
   ]
  }
 ],
 "metadata": {
  "kernelspec": {
   "display_name": "Python 3 (ipykernel)",
   "language": "python",
   "name": "python3"
  },
  "language_info": {
   "codemirror_mode": {
    "name": "ipython",
    "version": 3
   },
   "file_extension": ".py",
   "mimetype": "text/x-python",
   "name": "python",
   "nbconvert_exporter": "python",
   "pygments_lexer": "ipython3",
   "version": "3.12.6"
  }
 },
 "nbformat": 4,
 "nbformat_minor": 5
}
