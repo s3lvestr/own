{
 "cells": [
  {
   "cell_type": "markdown",
   "id": "0187c611-8aed-44c9-a7ef-9bf87a2cf3b2",
   "metadata": {},
   "source": [
    "1"
   ]
  },
  {
   "cell_type": "code",
   "execution_count": null,
   "id": "f9f9cbe7-5285-4216-a589-d94ab0e1374f",
   "metadata": {},
   "outputs": [],
   "source": [
    "SELECT m.name AS movie_name, r.rating\n",
    "FROM ratings r\n",
    "JOIN users u ON r.user_id = u.id\n",
    "JOIN movies m ON r.movie_id = m.id\n",
    "WHERE u.email = 'hello@netflix.com'\n",
    "ORDER BY r.rating DESC\n",
    "LIMIT 5;\n"
   ]
  },
  {
   "cell_type": "markdown",
   "id": "e4fa9a3f-3e38-4d8d-abb1-b31dbcd8ffa8",
   "metadata": {},
   "source": [
    "2 Перший запит виводить список унікальних фільмів із рейтингом ≥ 8, а другий — їхню кількість."
   ]
  },
  {
   "cell_type": "code",
   "execution_count": null,
   "id": "5bada12d-8ca1-4e9a-af79-bd4c34cf49a7",
   "metadata": {},
   "outputs": [],
   "source": [
    "SELECT DISTINCT m.name AS movie_name\n",
    "FROM ratings r\n",
    "JOIN movies m ON r.movie_id = m.id\n",
    "WHERE r.rating >= 8;"
   ]
  },
  {
   "cell_type": "code",
   "execution_count": null,
   "id": "7c8c156a-5eeb-4194-bf63-98ccfc484593",
   "metadata": {},
   "outputs": [],
   "source": [
    "SELECT COUNT(DISTINCT m.id) AS movie_count\n",
    "FROM ratings r\n",
    "JOIN movies m ON r.movie_id = m.id\n",
    "WHERE r.rating >= 8;"
   ]
  },
  {
   "cell_type": "markdown",
   "id": "41b94e4c-5ee6-492b-963d-5b61b0eb57e6",
   "metadata": {},
   "source": [
    "3"
   ]
  },
  {
   "cell_type": "code",
   "execution_count": null,
   "id": "1bd28e36-a2a1-4d6d-9d4c-c59e4429723c",
   "metadata": {},
   "outputs": [],
   "source": [
    "SELECT m.name AS movie_name, COUNT(t.id) AS favourites_count\n",
    "FROM tags t\n",
    "JOIN movies m ON t.movie_id = m.id\n",
    "WHERE t.tag = 'Favourites'\n",
    "GROUP BY m.id, m.name\n",
    "ORDER BY favourites_count DESC\n",
    "LIMIT 10;"
   ]
  }
 ],
 "metadata": {
  "kernelspec": {
   "display_name": "Python 3 (ipykernel)",
   "language": "python",
   "name": "python3"
  },
  "language_info": {
   "codemirror_mode": {
    "name": "ipython",
    "version": 3
   },
   "file_extension": ".py",
   "mimetype": "text/x-python",
   "name": "python",
   "nbconvert_exporter": "python",
   "pygments_lexer": "ipython3",
   "version": "3.12.6"
  }
 },
 "nbformat": 4,
 "nbformat_minor": 5
}
