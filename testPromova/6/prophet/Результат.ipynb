{
 "cells": [
  {
   "cell_type": "markdown",
   "id": "139428a1-73ec-481e-a569-3d68fe84f7da",
   "metadata": {},
   "source": [
    "Результатом даслідження і прогнозування данних на 1 місяць ми маємо:"
   ]
  },
  {
   "cell_type": "markdown",
   "id": "103ba079-0f22-41dd-a2a3-092a8b1abc23",
   "metadata": {},
   "source": [
    "MAPE: 9.25%  по Теслі"
   ]
  },
  {
   "cell_type": "markdown",
   "id": "e28e8edb-c881-4bef-ba7b-489b170dca83",
   "metadata": {},
   "source": [
    "MAPE: 6.74%  по біткоіну"
   ]
  },
  {
   "cell_type": "code",
   "execution_count": null,
   "id": "c7002607-1354-48f7-935c-18557f176f86",
   "metadata": {},
   "outputs": [],
   "source": []
  }
 ],
 "metadata": {
  "kernelspec": {
   "display_name": "Python 3 (ipykernel)",
   "language": "python",
   "name": "python3"
  },
  "language_info": {
   "codemirror_mode": {
    "name": "ipython",
    "version": 3
   },
   "file_extension": ".py",
   "mimetype": "text/x-python",
   "name": "python",
   "nbconvert_exporter": "python",
   "pygments_lexer": "ipython3",
   "version": "3.12.6"
  }
 },
 "nbformat": 4,
 "nbformat_minor": 5
}
