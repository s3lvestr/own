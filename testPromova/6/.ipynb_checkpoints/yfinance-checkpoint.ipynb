{
 "cells": [
  {
   "cell_type": "code",
   "execution_count": 4,
   "id": "a70e4548-069a-47cd-ae51-cc7e36e1a2c9",
   "metadata": {},
   "outputs": [],
   "source": [
    "import yfinance as yf\n"
   ]
  },
  {
   "cell_type": "code",
   "execution_count": 9,
   "id": "b1d25aea-2397-47d9-afa4-880dccba5c0d",
   "metadata": {},
   "outputs": [],
   "source": [
    "# Визначення тикерів\n",
    "tickers = [\"TSLA\", \"BTC-USD\"]"
   ]
  },
  {
   "cell_type": "code",
   "execution_count": 12,
   "id": "333df4b0-24d3-4b4b-814c-a3d6727430ca",
   "metadata": {},
   "outputs": [
    {
     "name": "stderr",
     "output_type": "stream",
     "text": [
      "[*********************100%***********************]  2 of 2 completed\n"
     ]
    }
   ],
   "source": [
    "# Завантаження даних\n",
    "data = yf.download(tickers, start=\"2023-01-01\", end=\"2024-12-24\", group_by='ticker')"
   ]
  },
  {
   "cell_type": "code",
   "execution_count": 13,
   "id": "fb53d8eb-8357-4e8a-a872-0964f63691f0",
   "metadata": {},
   "outputs": [
    {
     "name": "stdout",
     "output_type": "stream",
     "text": [
      "Дані для TSLA збережено у TSLA.csv\n",
      "Дані для BTC-USD збережено у BTC-USD.csv\n"
     ]
    }
   ],
   "source": [
    "# Збереження кожного тикера у окремий CSV\n",
    "for ticker in tickers:\n",
    "    data[ticker].to_csv(f\"{ticker}.csv\")\n",
    "    print(f\"Дані для {ticker} збережено у {ticker}.csv\")"
   ]
  },
  {
   "cell_type": "code",
   "execution_count": null,
   "id": "0c40d0b9-27a1-447b-ad99-ffaacc3b2dd8",
   "metadata": {},
   "outputs": [],
   "source": []
  }
 ],
 "metadata": {
  "kernelspec": {
   "display_name": "Python 3 (ipykernel)",
   "language": "python",
   "name": "python3"
  },
  "language_info": {
   "codemirror_mode": {
    "name": "ipython",
    "version": 3
   },
   "file_extension": ".py",
   "mimetype": "text/x-python",
   "name": "python",
   "nbconvert_exporter": "python",
   "pygments_lexer": "ipython3",
   "version": "3.12.6"
  }
 },
 "nbformat": 4,
 "nbformat_minor": 5
}
