{
 "cells": [
  {
   "cell_type": "code",
   "execution_count": 7,
   "id": "2278c3c8-5d3c-4164-8b48-a5797d5b2a04",
   "metadata": {},
   "outputs": [],
   "source": [
    "import pandas as pd"
   ]
  },
  {
   "cell_type": "code",
   "execution_count": 9,
   "id": "8a10b35d-be02-4da4-bbe1-0f0e1c5da229",
   "metadata": {},
   "outputs": [],
   "source": [
    "shops = pd.read_csv('shops.csv')\n",
    "sales = pd.read_csv('Sales.csv')\n",
    "events = pd.read_csv('Events.csv')"
   ]
  },
  {
   "cell_type": "code",
   "execution_count": 11,
   "id": "b74d4058-70d1-423d-ba74-8526a7b00427",
   "metadata": {},
   "outputs": [
    {
     "name": "stdout",
     "output_type": "stream",
     "text": [
      "Shops: (35, 9)\n",
      "Sales: (29425, 4)\n",
      "Events: (18, 4)\n",
      "   Shop   Open_date Change_type Trade_area    City   Region  \\\n",
      "0     1  04.10.2018         NaN      36,04  City15  Region1   \n",
      "1     1  20.12.2021   Extension      48,05  City15  Region1   \n",
      "2     2  12.01.2018         NaN      30,93   City8  Region2   \n",
      "3     3  16.02.2018         NaN      36,94  City27  Region3   \n",
      "4     4  22.01.2018         NaN      17,42   City7  Region4   \n",
      "\n",
      "           City area             Local_reference  Floor  \n",
      "0  sleeping quarters                      bazaar      1  \n",
      "1  sleeping quarters                      bazaar      1  \n",
      "2          periphery                 supermarket      1  \n",
      "3             centre  administrative institution      1  \n",
      "4  sleeping quarters                 supermarket      1  \n",
      "   Shop        Date     Sales  Unnamed: 3\n",
      "0     1  02.01.2019  4 739,45         NaN\n",
      "1     2  02.01.2019  6 254,80         NaN\n",
      "2     3  02.01.2019  8 710,77         NaN\n",
      "3     4  02.01.2019  4 389,85         NaN\n",
      "4     5  02.01.2019  5 119,37         NaN\n",
      "   Date_start    Date_end       Type          Event\n",
      "0  22.02.2019  23.02.2019  Promotion         Promo1\n",
      "1  25.10.2019  25.10.2019  Promotion      Halloween\n",
      "2  29.11.2019  01.12.2019  Promotion   Black Friday\n",
      "3  21.02.2020  22.02.2020  Promotion         Promo1\n",
      "4  16.03.2020  11.05.2020   Lockdown  Hard lockdown\n"
     ]
    }
   ],
   "source": [
    "# Чтение каждого листа с учетом разделителя ';'\n",
    "shops = pd.read_csv(\"Shops.csv\", sep=';')\n",
    "sales = pd.read_csv(\"Sales.csv\", sep=';')\n",
    "events = pd.read_csv(\"Events.csv\", sep=';')\n",
    "\n",
    "# Розмір датасетів\n",
    "print(\"Shops:\", shops.shape)\n",
    "print(\"Sales:\", sales.shape)\n",
    "print(\"Events:\", events.shape)\n",
    "\n",
    "# Перші кілька рядків для перегляду структури даних\n",
    "print(shops.head())\n",
    "print(sales.head())\n",
    "print(events.head())"
   ]
  },
  {
   "cell_type": "code",
   "execution_count": 27,
   "id": "bd288935-a83c-4e2c-bfe1-9e1907eabac9",
   "metadata": {},
   "outputs": [
    {
     "name": "stdout",
     "output_type": "stream",
     "text": [
      "Пропуски в Shops:\n",
      "Shop                0\n",
      "Open_date          22\n",
      "Change_type        30\n",
      "Trade_area          0\n",
      "City                0\n",
      "Region              0\n",
      "City area           0\n",
      "Local_reference     0\n",
      "Floor               0\n",
      "dtype: int64\n",
      "\n",
      "Пропуски в Sales:\n",
      "Shop         0\n",
      "Date     17903\n",
      "Sales        0\n",
      "dtype: int64\n",
      "\n",
      "Пропуски в Events:\n",
      "Date_start    0\n",
      "Date_end      0\n",
      "Type          0\n",
      "Event         0\n",
      "dtype: int64\n"
     ]
    }
   ],
   "source": [
    "print(\"Пропуски в Shops:\")\n",
    "print(shops.isnull().sum())\n",
    "print(\"\\nПропуски в Sales:\")\n",
    "print(sales.isnull().sum())\n",
    "print(\"\\nПропуски в Events:\")\n",
    "print(events.isnull().sum())"
   ]
  },
  {
   "cell_type": "code",
   "execution_count": 31,
   "id": "8e131ed3-e00b-4fe0-8228-87cf97f39428",
   "metadata": {},
   "outputs": [
    {
     "name": "stdout",
     "output_type": "stream",
     "text": [
      "Количество пропусков после преобразования: 17903\n",
      "0   2019-02-01\n",
      "1   2019-02-01\n",
      "2   2019-02-01\n",
      "3   2019-02-01\n",
      "4   2019-02-01\n",
      "5   2019-03-01\n",
      "6   2019-03-01\n",
      "7   2019-03-01\n",
      "8   2019-03-01\n",
      "9   2019-03-01\n",
      "Name: Date, dtype: datetime64[ns]\n"
     ]
    }
   ],
   "source": [
    "# Преобразуем даты в формат datetime с правильным форматом\n",
    "sales['Date'] = pd.to_datetime(sales['Date'], format='%d.%m.%Y')\n",
    "\n",
    "# Проверим количество пропусков после преобразования\n",
    "missing_dates_count = sales['Date'].isna().sum()\n",
    "print(f\"Количество пропусков после преобразования: {missing_dates_count}\")\n",
    "\n",
    "# Выведем несколько первых значений для проверки\n",
    "print(sales['Date'].head(10))\n"
   ]
  },
  {
   "cell_type": "code",
   "execution_count": 33,
   "id": "2f543b63-3c6b-4d8e-88eb-70d10d325ec0",
   "metadata": {},
   "outputs": [
    {
     "name": "stdout",
     "output_type": "stream",
     "text": [
      "Записи с пробелами или скрытыми символами в 'Date':\n",
      "Empty DataFrame\n",
      "Columns: [Shop, Date, Sales, Date_str]\n",
      "Index: []\n"
     ]
    }
   ],
   "source": [
    "# Преобразуем столбец 'Date' в строковый тип для поиска пробелов\n",
    "sales['Date_str'] = sales['Date'].astype(str)\n",
    "\n",
    "# Найдем строки с пробелами или скрытыми символами\n",
    "empty_dates = sales[sales['Date_str'].str.contains(r'\\s', na=False)]\n",
    "print(\"Записи с пробелами или скрытыми символами в 'Date':\")\n",
    "print(empty_dates)"
   ]
  },
  {
   "cell_type": "code",
   "execution_count": 34,
   "id": "eaa55057-3a39-48b9-932a-c28a5c408fef",
   "metadata": {},
   "outputs": [
    {
     "name": "stdout",
     "output_type": "stream",
     "text": [
      "Date\n",
      "<class 'pandas._libs.tslibs.nattype.NaTType'>         17903\n",
      "<class 'pandas._libs.tslibs.timestamps.Timestamp'>    11522\n",
      "Name: count, dtype: int64\n"
     ]
    }
   ],
   "source": [
    "# Проверим типы данных в столбце 'Date'\n",
    "print(sales['Date'].apply(type).value_counts())\n"
   ]
  },
  {
   "cell_type": "code",
   "execution_count": 35,
   "id": "a23de6cd-5190-4231-8ef3-34d9f0e98f82",
   "metadata": {},
   "outputs": [
    {
     "name": "stdout",
     "output_type": "stream",
     "text": [
      "   Shop       Date    Sales\n",
      "0     1 2019-01-02  4739.45\n",
      "1     2 2019-01-03  5335.20\n",
      "2     3 2019-01-04  5535.57\n",
      "3     4 2019-01-05  6294.09\n",
      "4     5 2019-01-06  7241.28\n"
     ]
    }
   ],
   "source": [
    "data = {\n",
    "    'Shop': [1, 2, 3, 4, 5],\n",
    "    'Date': ['02.01.2019', '03.01.2019', '04.01.2019', '05.01.2019', '06.01.2019'],\n",
    "    'Sales': ['4 739,45', '5 335,20', '5 535,57', '6 294,09', '7 241,28']\n",
    "}\n",
    "\n",
    "# Создание DataFrame\n",
    "df = pd.DataFrame(data)\n",
    "\n",
    "# Преобразование столбца 'Date' в тип данных datetime\n",
    "df['Date'] = pd.to_datetime(df['Date'], format='%d.%m.%Y')\n",
    "\n",
    "# Преобразование столбца 'Sales' в числовой тип, убирая пробелы и запятые\n",
    "df['Sales'] = df['Sales'].str.replace(' ', '').str.replace(',', '.').astype(float)\n",
    "\n",
    "# Вывод результата\n",
    "print(df)"
   ]
  },
  {
   "cell_type": "code",
   "execution_count": 36,
   "id": "0ac27de7-9273-4eba-9a65-2b643764e6b0",
   "metadata": {},
   "outputs": [
    {
     "name": "stdout",
     "output_type": "stream",
     "text": [
      "\n",
      "Пропуски в Sales:\n",
      "Shop            0\n",
      "Date        17903\n",
      "Sales           0\n",
      "Date_str        0\n",
      "dtype: int64\n"
     ]
    }
   ],
   "source": [
    "print(\"\\nПропуски в Sales:\")\n",
    "print(sales.isnull().sum())"
   ]
  },
  {
   "cell_type": "code",
   "execution_count": null,
   "id": "adab205d-fed7-4140-a3e4-807a18b9a7ed",
   "metadata": {},
   "outputs": [],
   "source": []
  }
 ],
 "metadata": {
  "kernelspec": {
   "display_name": "Python 3 (ipykernel)",
   "language": "python",
   "name": "python3"
  },
  "language_info": {
   "codemirror_mode": {
    "name": "ipython",
    "version": 3
   },
   "file_extension": ".py",
   "mimetype": "text/x-python",
   "name": "python",
   "nbconvert_exporter": "python",
   "pygments_lexer": "ipython3",
   "version": "3.12.6"
  }
 },
 "nbformat": 4,
 "nbformat_minor": 5
}
