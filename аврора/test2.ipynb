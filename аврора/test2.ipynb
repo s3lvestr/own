{
 "cells": [
  {
   "cell_type": "code",
   "execution_count": 1,
   "id": "298a38df-0b25-4a7e-a021-a1cdc210f307",
   "metadata": {},
   "outputs": [],
   "source": [
    "import pandas as pd"
   ]
  },
  {
   "cell_type": "code",
   "execution_count": 2,
   "id": "fc0332ac-bdb9-4187-b638-42c04d01c78e",
   "metadata": {},
   "outputs": [],
   "source": [
    "shops = pd.read_csv('shops.csv')\n",
    "sales = pd.read_csv('Sales.csv')\n",
    "events = pd.read_csv('Events.csv')"
   ]
  },
  {
   "cell_type": "code",
   "execution_count": 3,
   "id": "3470d5f2-baac-43b1-b927-86314992d65f",
   "metadata": {},
   "outputs": [],
   "source": [
    "shops = pd.read_csv(\"Shops.csv\", sep=';')\n",
    "sales = pd.read_csv(\"Sales.csv\", sep=';')\n",
    "events = pd.read_csv(\"Events.csv\", sep=';')"
   ]
  },
  {
   "cell_type": "code",
   "execution_count": 4,
   "id": "91f9f31a-911b-4c14-a260-888e29d1db25",
   "metadata": {},
   "outputs": [
    {
     "name": "stdout",
     "output_type": "stream",
     "text": [
      "Shops: (35, 9)\n",
      "Sales: (29425, 4)\n",
      "Events: (18, 4)\n",
      "   Shop   Open_date Change_type Trade_area    City   Region  \\\n",
      "0     1  04.10.2018         NaN      36,04  City15  Region1   \n",
      "1     1  20.12.2021   Extension      48,05  City15  Region1   \n",
      "2     2  12.01.2018         NaN      30,93   City8  Region2   \n",
      "3     3  16.02.2018         NaN      36,94  City27  Region3   \n",
      "4     4  22.01.2018         NaN      17,42   City7  Region4   \n",
      "\n",
      "           City area             Local_reference  Floor  \n",
      "0  sleeping quarters                      bazaar      1  \n",
      "1  sleeping quarters                      bazaar      1  \n",
      "2          periphery                 supermarket      1  \n",
      "3             centre  administrative institution      1  \n",
      "4  sleeping quarters                 supermarket      1  \n",
      "   Shop        Date     Sales  Unnamed: 3\n",
      "0     1  02.01.2019  4 739,45         NaN\n",
      "1     2  02.01.2019  6 254,80         NaN\n",
      "2     3  02.01.2019  8 710,77         NaN\n",
      "3     4  02.01.2019  4 389,85         NaN\n",
      "4     5  02.01.2019  5 119,37         NaN\n",
      "   Date_start    Date_end       Type          Event\n",
      "0  22.02.2019  23.02.2019  Promotion         Promo1\n",
      "1  25.10.2019  25.10.2019  Promotion      Halloween\n",
      "2  29.11.2019  01.12.2019  Promotion   Black Friday\n",
      "3  21.02.2020  22.02.2020  Promotion         Promo1\n",
      "4  16.03.2020  11.05.2020   Lockdown  Hard lockdown\n"
     ]
    }
   ],
   "source": [
    "# Розмір датасетів\n",
    "print(\"Shops:\", shops.shape)\n",
    "print(\"Sales:\", sales.shape)\n",
    "print(\"Events:\", events.shape)\n",
    "\n",
    "# Перші кілька рядків для перегляду структури даних\n",
    "print(shops.head())\n",
    "print(sales.head())\n",
    "print(events.head())"
   ]
  },
  {
   "cell_type": "code",
   "execution_count": 5,
   "id": "a21b7a84-2a08-4a13-a9fc-abb2ac0d51a1",
   "metadata": {},
   "outputs": [
    {
     "name": "stdout",
     "output_type": "stream",
     "text": [
      "Пропуски в Shops:\n",
      "Shop                0\n",
      "Open_date           0\n",
      "Change_type        30\n",
      "Trade_area          0\n",
      "City                0\n",
      "Region              0\n",
      "City area           0\n",
      "Local_reference     0\n",
      "Floor               0\n",
      "dtype: int64\n",
      "\n",
      "Пропуски в Sales:\n",
      "Shop              0\n",
      "Date              0\n",
      "Sales             0\n",
      "Unnamed: 3    29425\n",
      "dtype: int64\n",
      "\n",
      "Пропуски в Events:\n",
      "Date_start    0\n",
      "Date_end      0\n",
      "Type          0\n",
      "Event         0\n",
      "dtype: int64\n"
     ]
    }
   ],
   "source": [
    "print(\"Пропуски в Shops:\")\n",
    "print(shops.isnull().sum())\n",
    "print(\"\\nПропуски в Sales:\")\n",
    "print(sales.isnull().sum())\n",
    "print(\"\\nПропуски в Events:\")\n",
    "print(events.isnull().sum())"
   ]
  },
  {
   "cell_type": "code",
   "execution_count": 6,
   "id": "57bf52b3-eb59-4d6c-a57a-38e55b48fed4",
   "metadata": {},
   "outputs": [],
   "source": [
    "sales = sales.dropna(axis=1, how='all')"
   ]
  },
  {
   "cell_type": "code",
   "execution_count": 7,
   "id": "58cc339c-9f64-4eb7-9651-fb361e06650d",
   "metadata": {},
   "outputs": [
    {
     "name": "stdout",
     "output_type": "stream",
     "text": [
      "Пропуски в Shops:\n",
      "Shop                0\n",
      "Open_date           0\n",
      "Change_type        30\n",
      "Trade_area          0\n",
      "City                0\n",
      "Region              0\n",
      "City area           0\n",
      "Local_reference     0\n",
      "Floor               0\n",
      "dtype: int64\n",
      "\n",
      "Пропуски в Sales:\n",
      "Shop     0\n",
      "Date     0\n",
      "Sales    0\n",
      "dtype: int64\n",
      "\n",
      "Пропуски в Events:\n",
      "Date_start    0\n",
      "Date_end      0\n",
      "Type          0\n",
      "Event         0\n",
      "dtype: int64\n"
     ]
    }
   ],
   "source": [
    "print(\"Пропуски в Shops:\")\n",
    "print(shops.isnull().sum())\n",
    "print(\"\\nПропуски в Sales:\")\n",
    "print(sales.isnull().sum())\n",
    "print(\"\\nПропуски в Events:\")\n",
    "print(events.isnull().sum())"
   ]
  },
  {
   "cell_type": "code",
   "execution_count": null,
   "id": "55dc4a4d-6518-4848-b138-2f9d55cab856",
   "metadata": {},
   "outputs": [],
   "source": []
  },
  {
   "cell_type": "code",
   "execution_count": 8,
   "id": "e5ca93cb-6089-4119-9074-59ac94273878",
   "metadata": {},
   "outputs": [
    {
     "name": "stdout",
     "output_type": "stream",
     "text": [
      "      Shop       Date      Sales  Year\n",
      "2398     1 2020-01-02   5 448,20  2020\n",
      "2399     2 2020-01-02   9 722,53  2020\n",
      "2400     3 2020-01-02  14 940,39  2020\n",
      "2401     4 2020-01-02   2 776,43  2020\n",
      "2402     5 2020-01-02   7 713,36  2020\n",
      "...    ...        ...        ...   ...\n",
      "6739    10 2020-12-31  21 873,30  2020\n",
      "6740    11 2020-12-31  13 511,77  2020\n",
      "6741    12 2020-12-31  20 069,73  2020\n",
      "6742    13 2020-12-31  24 026,61  2020\n",
      "6743    14 2020-12-31  21 962,58  2020\n",
      "\n",
      "[4346 rows x 4 columns]\n"
     ]
    }
   ],
   "source": [
    "# Применение условия для аномальных значений\n",
    "# Преобразуем столбец 'Date' в datetime, если еще не сделано\n",
    "sales['Date'] = pd.to_datetime(sales['Date'], format='%d.%m.%Y')\n",
    "\n",
    "# Добавляем новый столбец 'Year', который будет содержать только год\n",
    "sales['Year'] = sales['Date'].dt.year\n",
    "\n",
    "# Теперь можно разделить DataFrame по годам\n",
    "years = sales['Year'].unique()  # Получаем уникальные годы\n",
    "\n",
    "# Разделим DataFrame по каждому году\n",
    "sales_by_year = {year: sales[sales['Year'] == year] for year in years}\n",
    "\n",
    "# Например, выводим данные для 2020 года\n",
    "print(sales_by_year[2020])\n",
    "\n"
   ]
  },
  {
   "cell_type": "code",
   "execution_count": 9,
   "id": "b9a03d01-b778-49b1-8cd5-8a3063fc53d4",
   "metadata": {},
   "outputs": [
    {
     "name": "stdout",
     "output_type": "stream",
     "text": [
      "Shop     0\n",
      "Date     0\n",
      "Sales    0\n",
      "Year     0\n",
      "dtype: int64\n"
     ]
    }
   ],
   "source": [
    "print(sales.isna().sum())"
   ]
  },
  {
   "cell_type": "code",
   "execution_count": 10,
   "id": "640bd7eb-1b82-4648-bb16-a968080436f0",
   "metadata": {},
   "outputs": [
    {
     "name": "stdout",
     "output_type": "stream",
     "text": [
      "      Shop       Date      Sales  Year\n",
      "0        1 2019-01-02   4 739,45  2019\n",
      "1        2 2019-01-02   6 254,80  2019\n",
      "2        3 2019-01-02   8 710,77  2019\n",
      "3        4 2019-01-02   4 389,85  2019\n",
      "4        5 2019-01-02   5 119,37  2019\n",
      "...    ...        ...        ...   ...\n",
      "2393     5 2019-12-31  14 136,12  2019\n",
      "2394     6 2019-12-31  16 664,72  2019\n",
      "2395     7 2019-12-31  13 456,91  2019\n",
      "2396     8 2019-12-31  21 616,52  2019\n",
      "2397     9 2019-12-31  11 502,55  2019\n",
      "\n",
      "[2398 rows x 4 columns]\n"
     ]
    }
   ],
   "source": [
    "print(sales_by_year[2019])"
   ]
  },
  {
   "cell_type": "code",
   "execution_count": 11,
   "id": "4ac530bb-8360-4f4c-8a23-888977690923",
   "metadata": {},
   "outputs": [],
   "source": [
    "shops_before_2023 = shops[shops['Open_date'] < '2023-01-01']"
   ]
  },
  {
   "cell_type": "code",
   "execution_count": 12,
   "id": "def797ef-7f9f-467f-9957-387735097892",
   "metadata": {},
   "outputs": [],
   "source": [
    "shops_before_2023.to_csv('shops_before_2023.csv', index=False)"
   ]
  },
  {
   "cell_type": "code",
   "execution_count": 13,
   "id": "c0dee0ad-7c03-4c5c-bdd3-6643fb6bc20d",
   "metadata": {},
   "outputs": [],
   "source": [
    "shops_after_2023 = shops[shops['Open_date'] >= '2023-01-01']\n",
    "shops_after_2023.to_csv('shops_after_2023.csv', index=False)"
   ]
  },
  {
   "cell_type": "code",
   "execution_count": 14,
   "id": "acd437cc-3b82-4d0f-a9e4-57d6ce5711e4",
   "metadata": {},
   "outputs": [],
   "source": [
    "import matplotlib.pyplot as plt"
   ]
  },
  {
   "cell_type": "code",
   "execution_count": 21,
   "id": "024fe4a2-7a3f-4ffb-bf57-ed596964d69a",
   "metadata": {},
   "outputs": [
    {
     "name": "stdout",
     "output_type": "stream",
     "text": [
      "      Month  Total_Sales\n",
      "0   2019-01    999338.08\n",
      "1   2019-02   1052095.16\n",
      "2   2019-03   1214180.49\n",
      "3   2019-04   1305111.94\n",
      "4   2019-05   1257564.80\n",
      "5   2019-06   1288016.78\n",
      "6   2019-07   1624118.43\n",
      "7   2019-08   2264778.39\n",
      "8   2019-09   1768462.88\n",
      "9   2019-10   2143593.07\n",
      "10  2019-11   2415984.91\n",
      "11  2019-12   3372754.01\n",
      "12  2020-01   2356515.49\n",
      "13  2020-02   2835946.76\n",
      "14  2020-03   2078102.78\n",
      "15  2020-04   1845266.11\n",
      "16  2020-05   2617420.05\n",
      "17  2020-06   2639748.52\n",
      "18  2020-07   3250420.46\n",
      "19  2020-08   4608432.15\n",
      "20  2020-09   3712320.20\n",
      "21  2020-10   4098131.15\n",
      "22  2020-11   3986703.74\n",
      "23  2020-12   6124777.29\n",
      "24  2021-01   2928658.61\n",
      "25  2021-02   3928222.53\n",
      "26  2021-03   4390192.81\n",
      "27  2021-04   4001960.42\n",
      "28  2021-05   4213765.10\n",
      "29  2021-06   4590004.63\n",
      "30  2021-07   5255708.60\n",
      "31  2021-08   6708555.01\n",
      "32  2021-09   5488795.48\n",
      "33  2021-10   5887138.93\n",
      "34  2021-11   5959133.45\n",
      "35  2021-12   8353474.80\n",
      "36  2022-01   5760245.30\n",
      "37  2022-02   5269089.95\n",
      "38  2022-03   5627711.71\n",
      "39  2022-04   7335588.58\n",
      "40  2022-05   7838799.00\n",
      "41  2022-06   8716980.31\n",
      "42  2022-07  10223172.53\n",
      "43  2022-08  12418341.14\n",
      "44  2022-09  12418964.64\n",
      "45  2022-10  13447985.70\n",
      "46  2022-11  15218445.80\n",
      "47  2022-12  19635580.59\n",
      "48  2023-01  16145654.74\n",
      "49  2023-02  16751282.86\n",
      "50  2023-03  18474074.88\n",
      "51  2023-04  18604271.48\n",
      "52  2023-05  20245815.59\n",
      "53  2023-06  21386382.87\n",
      "54  2023-07  23810591.26\n",
      "55  2023-08  25921829.53\n",
      "56  2023-09  24008098.51\n",
      "57  2023-10  26041631.85\n"
     ]
    }
   ],
   "source": [
    "sales['Date'] = pd.to_datetime(sales['Date'], format='%d.%m.%Y')\n",
    "\n",
    "# Удаление лишних пробелов и замена запятых на точки в столбце Sales\n",
    "sales['Sales'] = sales['Sales'].str.replace(' ', '').str.replace(',', '.').astype(float)\n",
    "\n",
    "# Добавление столбца с месяцами\n",
    "sales['Month'] = sales['Date'].dt.to_period('M')\n",
    "\n",
    "# Суммирование продаж по месяцам\n",
    "monthly_sales = sales.groupby('Month')['Sales'].sum().reset_index()\n",
    "\n",
    "# Преобразование в удобочитаемую таблицу\n",
    "monthly_sales.columns = ['Month', 'Total_Sales']\n",
    "\n",
    "# Вывод результата\n",
    "print(monthly_sales)"
   ]
  },
  {
   "cell_type": "code",
   "execution_count": 33,
   "id": "359a0bcd-c839-4da8-b032-46dc607a362e",
   "metadata": {},
   "outputs": [
    {
     "data": {
      "image/png": "[encoded data removed]",
      "text/plain": [
       "<Figure size 1200x600 with 1 Axes>"
      ]
     },
     "metadata": {},
     "output_type": "display_data"
    }
   ],
   "source": [
    "# Преобразуем периоды в строки для подписи на графике\n",
    "monthly_sales['Month'] = monthly_sales['Month'].astype(str)\n",
    "\n",
    "# Построение графика\n",
    "plt.figure(figsize=(12, 6))\n",
    "plt.plot(monthly_sales['Month'], monthly_sales['Total_Sales'], marker='o', color='blue', label='Продажи')\n",
    "\n",
    "# Настройки графика\n",
    "plt.title('Суммарные продажи по месяцам за все годы', fontsize=16)\n",
    "plt.xlabel('Месяц', fontsize=12)\n",
    "plt.ylabel('Сумма продаж', fontsize=12)\n",
    "plt.xticks(rotation=45)\n",
    "plt.grid(True, linestyle='--', alpha=0.7)\n",
    "plt.legend()\n",
    "plt.tight_layout()\n",
    "\n",
    "# Показ графика\n",
    "plt.show()"
   ]
  },
  {
   "cell_type": "code",
   "execution_count": 36,
   "id": "fe3032de-6170-4bdc-bdc4-141d45f9a84a",
   "metadata": {},
   "outputs": [
    {
     "name": "stdout",
     "output_type": "stream",
     "text": [
      "Requirement already satisfied: prophet in c:\\users\\savelii\\appdata\\local\\programs\\python\\python312\\lib\\site-packages (1.1.6)\n",
      "Requirement already satisfied: cmdstanpy>=1.0.4 in c:\\users\\savelii\\appdata\\local\\programs\\python\\python312\\lib\\site-packages (from prophet) (1.2.4)\n",
      "Requirement already satisfied: numpy>=1.15.4 in c:\\users\\savelii\\appdata\\local\\programs\\python\\python312\\lib\\site-packages (from prophet) (2.1.1)\n",
      "Requirement already satisfied: matplotlib>=2.0.0 in c:\\users\\savelii\\appdata\\local\\programs\\python\\python312\\lib\\site-packages (from prophet) (3.9.2)\n",
      "Requirement already satisfied: pandas>=1.0.4 in c:\\users\\savelii\\appdata\\local\\programs\\python\\python312\\lib\\site-packages (from prophet) (2.2.3)\n",
      "Requirement already satisfied: holidays<1,>=0.25 in c:\\users\\savelii\\appdata\\local\\programs\\python\\python312\\lib\\site-packages (from prophet) (0.60)\n",
      "Requirement already satisfied: tqdm>=4.36.1 in c:\\users\\savelii\\appdata\\local\\programs\\python\\python312\\lib\\site-packages (from prophet) (4.67.0)\n",
      "Requirement already satisfied: importlib-resources in c:\\users\\savelii\\appdata\\local\\programs\\python\\python312\\lib\\site-packages (from prophet) (6.4.5)\n",
      "Requirement already satisfied: stanio<2.0.0,>=0.4.0 in c:\\users\\savelii\\appdata\\local\\programs\\python\\python312\\lib\\site-packages (from cmdstanpy>=1.0.4->prophet) (0.5.1)\n",
      "Requirement already satisfied: python-dateutil in c:\\users\\savelii\\appdata\\local\\programs\\python\\python312\\lib\\site-packages (from holidays<1,>=0.25->prophet) (2.9.0.post0)\n",
      "Requirement already satisfied: contourpy>=1.0.1 in c:\\users\\savelii\\appdata\\local\\programs\\python\\python312\\lib\\site-packages (from matplotlib>=2.0.0->prophet) (1.3.0)\n",
      "Requirement already satisfied: cycler>=0.10 in c:\\users\\savelii\\appdata\\local\\programs\\python\\python312\\lib\\site-packages (from matplotlib>=2.0.0->prophet) (0.12.1)\n",
      "Requirement already satisfied: fonttools>=4.22.0 in c:\\users\\savelii\\appdata\\local\\programs\\python\\python312\\lib\\site-packages (from matplotlib>=2.0.0->prophet) (4.54.1)\n",
      "Requirement already satisfied: kiwisolver>=1.3.1 in c:\\users\\savelii\\appdata\\local\\programs\\python\\python312\\lib\\site-packages (from matplotlib>=2.0.0->prophet) (1.4.7)\n",
      "Requirement already satisfied: packaging>=20.0 in c:\\users\\savelii\\appdata\\local\\programs\\python\\python312\\lib\\site-packages (from matplotlib>=2.0.0->prophet) (24.1)\n",
      "Requirement already satisfied: pillow>=8 in c:\\users\\savelii\\appdata\\local\\programs\\python\\python312\\lib\\site-packages (from matplotlib>=2.0.0->prophet) (10.4.0)\n",
      "Requirement already satisfied: pyparsing>=2.3.1 in c:\\users\\savelii\\appdata\\local\\programs\\python\\python312\\lib\\site-packages (from matplotlib>=2.0.0->prophet) (3.1.4)\n",
      "Requirement already satisfied: pytz>=2020.1 in c:\\users\\savelii\\appdata\\local\\programs\\python\\python312\\lib\\site-packages (from pandas>=1.0.4->prophet) (2024.2)\n",
      "Requirement already satisfied: tzdata>=2022.7 in c:\\users\\savelii\\appdata\\local\\programs\\python\\python312\\lib\\site-packages (from pandas>=1.0.4->prophet) (2024.2)\n",
      "Requirement already satisfied: colorama in c:\\users\\savelii\\appdata\\local\\programs\\python\\python312\\lib\\site-packages (from tqdm>=4.36.1->prophet) (0.4.6)\n",
      "Requirement already satisfied: six>=1.5 in c:\\users\\savelii\\appdata\\local\\programs\\python\\python312\\lib\\site-packages (from python-dateutil->holidays<1,>=0.25->prophet) (1.16.0)\n"
     ]
    },
    {
     "name": "stderr",
     "output_type": "stream",
     "text": [
      "\n",
      "[notice] A new release of pip is available: 24.2 -> 24.3.1\n",
      "[notice] To update, run: python.exe -m pip install --upgrade pip\n"
     ]
    }
   ],
   "source": [
    "!pip install prophet"
   ]
  },
  {
   "cell_type": "code",
   "execution_count": 37,
   "id": "a48faf79-99bc-40d1-b262-cccb7b627b9a",
   "metadata": {},
   "outputs": [],
   "source": [
    "from prophet import Prophet"
   ]
  },
  {
   "cell_type": "code",
   "execution_count": 43,
   "id": "053cdec8-23d9-4924-9e77-360a63cd3ed3",
   "metadata": {},
   "outputs": [
    {
     "data": {
      "text/html": [
       "<div>\n",
       "<style scoped>\n",
       "    .dataframe tbody tr th:only-of-type {\n",
       "        vertical-align: middle;\n",
       "    }\n",
       "\n",
       "    .dataframe tbody tr th {\n",
       "        vertical-align: top;\n",
       "    }\n",
       "\n",
       "    .dataframe thead th {\n",
       "        text-align: right;\n",
       "    }\n",
       "</style>\n",
       "<table border=\"1\" class=\"dataframe\">\n",
       "  <thead>\n",
       "    <tr style=\"text-align: right;\">\n",
       "      <th></th>\n",
       "      <th>ds</th>\n",
       "      <th>y</th>\n",
       "    </tr>\n",
       "  </thead>\n",
       "  <tbody>\n",
       "    <tr>\n",
       "      <th>0</th>\n",
       "      <td>2019-01</td>\n",
       "      <td>999338.08</td>\n",
       "    </tr>\n",
       "    <tr>\n",
       "      <th>1</th>\n",
       "      <td>2019-02</td>\n",
       "      <td>1052095.16</td>\n",
       "    </tr>\n",
       "    <tr>\n",
       "      <th>2</th>\n",
       "      <td>2019-03</td>\n",
       "      <td>1214180.49</td>\n",
       "    </tr>\n",
       "    <tr>\n",
       "      <th>3</th>\n",
       "      <td>2019-04</td>\n",
       "      <td>1305111.94</td>\n",
       "    </tr>\n",
       "    <tr>\n",
       "      <th>4</th>\n",
       "      <td>2019-05</td>\n",
       "      <td>1257564.80</td>\n",
       "    </tr>\n",
       "  </tbody>\n",
       "</table>\n",
       "</div>"
      ],
      "text/plain": [
       "        ds           y\n",
       "0  2019-01   999338.08\n",
       "1  2019-02  1052095.16\n",
       "2  2019-03  1214180.49\n",
       "3  2019-04  1305111.94\n",
       "4  2019-05  1257564.80"
      ]
     },
     "execution_count": 43,
     "metadata": {},
     "output_type": "execute_result"
    }
   ],
   "source": [
    "df = sales_2019[['Month', 'Total_Sales']].rename(columns={'Month': 'ds', 'Total_Sales': 'y'})\n",
    "\n",
    "# Просмотр первых строк для проверки\n",
    "df.head()"
   ]
  },
  {
   "cell_type": "code",
   "execution_count": 44,
   "id": "ed32ad73-9a08-4890-9212-85ab29099f26",
   "metadata": {},
   "outputs": [
    {
     "name": "stderr",
     "output_type": "stream",
     "text": [
      "23:50:17 - cmdstanpy - INFO - Chain [1] start processing\n",
      "23:50:17 - cmdstanpy - INFO - Chain [1] done processing\n"
     ]
    },
    {
     "data": {
      "text/plain": [
       "<prophet.forecaster.Prophet at 0x12573d78230>"
      ]
     },
     "execution_count": 44,
     "metadata": {},
     "output_type": "execute_result"
    }
   ],
   "source": [
    "# Создание модели Prophet\n",
    "model = Prophet()\n",
    "\n",
    "# Обучение модели на данных\n",
    "model.fit(df)"
   ]
  },
  {
   "cell_type": "code",
   "execution_count": 45,
   "id": "13fbf40d-0bcd-4c78-96e5-16a5b27b35a2",
   "metadata": {},
   "outputs": [
    {
     "ename": "TypeError",
     "evalue": "Prophet.make_future_dataframe() got multiple values for argument 'periods'",
     "output_type": "error",
     "traceback": [
      "\u001b[1;31m---------------------------------------------------------------------------\u001b[0m",
      "\u001b[1;31mTypeError\u001b[0m                                 Traceback (most recent call last)",
      "Cell \u001b[1;32mIn[45], line 1\u001b[0m\n\u001b[1;32m----> 1\u001b[0m future_dates \u001b[38;5;241m=\u001b[39m \u001b[43mmodel\u001b[49m\u001b[38;5;241;43m.\u001b[39;49m\u001b[43mmake_future_dataframe\u001b[49m\u001b[43m(\u001b[49m\u001b[43mdf\u001b[49m\u001b[43m,\u001b[49m\u001b[43m \u001b[49m\u001b[43mperiods\u001b[49m\u001b[38;5;241;43m=\u001b[39;49m\u001b[38;5;241;43m30\u001b[39;49m\u001b[43m,\u001b[49m\u001b[43m \u001b[49m\u001b[43mfreq\u001b[49m\u001b[38;5;241;43m=\u001b[39;49m\u001b[38;5;124;43m'\u001b[39;49m\u001b[38;5;124;43mD\u001b[39;49m\u001b[38;5;124;43m'\u001b[39;49m\u001b[43m)\u001b[49m  \u001b[38;5;66;03m# Прогнозируем на 30 дней\u001b[39;00m\n\u001b[0;32m      3\u001b[0m \u001b[38;5;66;03m# Прогнозирование\u001b[39;00m\n\u001b[0;32m      4\u001b[0m forecast \u001b[38;5;241m=\u001b[39m model\u001b[38;5;241m.\u001b[39mpredict(future_dates)\n",
      "\u001b[1;31mTypeError\u001b[0m: Prophet.make_future_dataframe() got multiple values for argument 'periods'"
     ]
    }
   ],
   "source": [
    "future_dates = model.make_future_dataframe(df, periods=30, freq='D')  # Прогнозируем на 30 дней\n",
    "\n",
    "# Прогнозирование\n",
    "forecast = model.predict(future_dates)\n",
    "\n",
    "# Просмотр результатов прогноза\n",
    "forecast[['ds', 'yhat', 'yhat_lower', 'yhat_upper']].tail()"
   ]
  },
  {
   "cell_type": "code",
   "execution_count": 46,
   "id": "c293d7c7-2430-4673-b13f-eac9ab954383",
   "metadata": {},
   "outputs": [
    {
     "data": {
      "text/html": [
       "<div>\n",
       "<style scoped>\n",
       "    .dataframe tbody tr th:only-of-type {\n",
       "        vertical-align: middle;\n",
       "    }\n",
       "\n",
       "    .dataframe tbody tr th {\n",
       "        vertical-align: top;\n",
       "    }\n",
       "\n",
       "    .dataframe thead th {\n",
       "        text-align: right;\n",
       "    }\n",
       "</style>\n",
       "<table border=\"1\" class=\"dataframe\">\n",
       "  <thead>\n",
       "    <tr style=\"text-align: right;\">\n",
       "      <th></th>\n",
       "      <th>ds</th>\n",
       "      <th>y</th>\n",
       "    </tr>\n",
       "  </thead>\n",
       "  <tbody>\n",
       "    <tr>\n",
       "      <th>0</th>\n",
       "      <td>2019-01</td>\n",
       "      <td>999338.08</td>\n",
       "    </tr>\n",
       "    <tr>\n",
       "      <th>1</th>\n",
       "      <td>2019-02</td>\n",
       "      <td>1052095.16</td>\n",
       "    </tr>\n",
       "    <tr>\n",
       "      <th>2</th>\n",
       "      <td>2019-03</td>\n",
       "      <td>1214180.49</td>\n",
       "    </tr>\n",
       "    <tr>\n",
       "      <th>3</th>\n",
       "      <td>2019-04</td>\n",
       "      <td>1305111.94</td>\n",
       "    </tr>\n",
       "    <tr>\n",
       "      <th>4</th>\n",
       "      <td>2019-05</td>\n",
       "      <td>1257564.80</td>\n",
       "    </tr>\n",
       "  </tbody>\n",
       "</table>\n",
       "</div>"
      ],
      "text/plain": [
       "        ds           y\n",
       "0  2019-01   999338.08\n",
       "1  2019-02  1052095.16\n",
       "2  2019-03  1214180.49\n",
       "3  2019-04  1305111.94\n",
       "4  2019-05  1257564.80"
      ]
     },
     "execution_count": 46,
     "metadata": {},
     "output_type": "execute_result"
    }
   ],
   "source": [
    "df.head()"
   ]
  },
  {
   "cell_type": "code",
   "execution_count": null,
   "id": "6194fbe9-6a2b-4715-a48b-8a8b14483365",
   "metadata": {},
   "outputs": [],
   "source": []
  }
 ],
 "metadata": {
  "kernelspec": {
   "display_name": "Python 3 (ipykernel)",
   "language": "python",
   "name": "python3"
  },
  "language_info": {
   "codemirror_mode": {
    "name": "ipython",
    "version": 3
   },
   "file_extension": ".py",
   "mimetype": "text/x-python",
   "name": "python",
   "nbconvert_exporter": "python",
   "pygments_lexer": "ipython3",
   "version": "3.12.6"
  }
 },
 "nbformat": 4,
 "nbformat_minor": 5
}
